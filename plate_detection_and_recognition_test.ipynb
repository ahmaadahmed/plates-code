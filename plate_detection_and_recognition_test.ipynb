{
  "cells": [
    {
      "cell_type": "code",
      "execution_count": null,
      "metadata": {
        "colab": {
          "base_uri": "https://localhost:8080/"
        },
        "id": "KUy6nCeaCCBz",
        "outputId": "82f80914-9ab6-435e-a5bf-086b5363f382"
      },
      "outputs": [
        {
          "output_type": "stream",
          "name": "stdout",
          "text": [
            "Cloning into 'yolov5'...\n",
            "remote: Enumerating objects: 15966, done.\u001b[K\n",
            "remote: Counting objects: 100% (86/86), done.\u001b[K\n",
            "remote: Compressing objects: 100% (66/66), done.\u001b[K\n",
            "remote: Total 15966 (delta 43), reused 46 (delta 20), pack-reused 15880\u001b[K\n",
            "Receiving objects: 100% (15966/15966), 14.70 MiB | 25.65 MiB/s, done.\n",
            "Resolving deltas: 100% (10938/10938), done.\n",
            "/content/yolov5\n",
            "\u001b[2K     \u001b[90m━━━━━━━━━━━━━━━━━━━━━━━━━━━━━━━━━━━━━━━\u001b[0m \u001b[32m189.5/189.5 kB\u001b[0m \u001b[31m3.8 MB/s\u001b[0m eta \u001b[36m0:00:00\u001b[0m\n",
            "\u001b[2K     \u001b[90m━━━━━━━━━━━━━━━━━━━━━━━━━━━━━━━━━━━━━━━\u001b[0m \u001b[32m616.3/616.3 kB\u001b[0m \u001b[31m8.9 MB/s\u001b[0m eta \u001b[36m0:00:00\u001b[0m\n",
            "\u001b[2K     \u001b[90m━━━━━━━━━━━━━━━━━━━━━━━━━━━━━━━━━━━━━━━━\u001b[0m \u001b[32m62.7/62.7 kB\u001b[0m \u001b[31m7.2 MB/s\u001b[0m eta \u001b[36m0:00:00\u001b[0m\n",
            "\u001b[2K     \u001b[90m━━━━━━━━━━━━━━━━━━━━━━━━━━━━━━━━━━━━━━━━\u001b[0m \u001b[32m58.7/58.7 kB\u001b[0m \u001b[31m1.1 MB/s\u001b[0m eta \u001b[36m0:00:00\u001b[0m\n",
            "\u001b[2K     \u001b[90m━━━━━━━━━━━━━━━━━━━━━━━━━━━━━━━━━━━━━━━\u001b[0m \u001b[32m155.3/155.3 kB\u001b[0m \u001b[31m6.3 MB/s\u001b[0m eta \u001b[36m0:00:00\u001b[0m\n",
            "\u001b[2K     \u001b[90m━━━━━━━━━━━━━━━━━━━━━━━━━━━━━━━━━━━━━━\u001b[0m \u001b[32m178.7/178.7 kB\u001b[0m \u001b[31m17.7 MB/s\u001b[0m eta \u001b[36m0:00:00\u001b[0m\n",
            "\u001b[2K     \u001b[90m━━━━━━━━━━━━━━━━━━━━━━━━━━━━━━━━━━━━━━━━\u001b[0m \u001b[32m58.8/58.8 kB\u001b[0m \u001b[31m7.1 MB/s\u001b[0m eta \u001b[36m0:00:00\u001b[0m\n",
            "\u001b[2K     \u001b[90m━━━━━━━━━━━━━━━━━━━━━━━━━━━━━━━━━━━━━━━━\u001b[0m \u001b[32m49.1/49.1 MB\u001b[0m \u001b[31m15.8 MB/s\u001b[0m eta \u001b[36m0:00:00\u001b[0m\n",
            "\u001b[2K     \u001b[90m━━━━━━━━━━━━━━━━━━━━━━━━━━━━━━━━━━━━━━━━\u001b[0m \u001b[32m67.8/67.8 kB\u001b[0m \u001b[31m8.0 MB/s\u001b[0m eta \u001b[36m0:00:00\u001b[0m\n",
            "\u001b[2K     \u001b[90m━━━━━━━━━━━━━━━━━━━━━━━━━━━━━━━━━━━━━━━━\u001b[0m \u001b[32m63.3/63.3 kB\u001b[0m \u001b[31m8.1 MB/s\u001b[0m eta \u001b[36m0:00:00\u001b[0m\n",
            "\u001b[2K     \u001b[90m━━━━━━━━━━━━━━━━━━━━━━━━━━━━━━━━━━━━━━━━\u001b[0m \u001b[32m54.5/54.5 kB\u001b[0m \u001b[31m7.0 MB/s\u001b[0m eta \u001b[36m0:00:00\u001b[0m\n",
            "\u001b[?25hSetup complete. Using torch 2.0.1+cu118 (Tesla T4)\n"
          ]
        }
      ],
      "source": [
        "#clone YOLOv5 and\n",
        "!git clone https://github.com/ultralytics/yolov5  # clone repo\n",
        "%cd yolov5\n",
        "%pip install -qr requirements.txt # install dependencies\n",
        "%pip install -q roboflow\n",
        "\n",
        "import os\n",
        "import cv2\n",
        "import torch\n",
        "from PIL import Image\n",
        "from IPython.display import Image, clear_output  # to display images\n",
        "\n",
        "print(f\"Setup complete. Using torch {torch.__version__} ({torch.cuda.get_device_properties(0).name if torch.cuda.is_available() else 'CPU'})\")"
      ]
    },
    {
      "cell_type": "code",
      "execution_count": null,
      "metadata": {
        "colab": {
          "base_uri": "https://localhost:8080/"
        },
        "id": "bpIiSP_ACI0h",
        "outputId": "d84a3f87-5754-4a98-8c64-035b2b1d8e69"
      },
      "outputs": [
        {
          "output_type": "stream",
          "name": "stderr",
          "text": [
            "YOLOv5 🚀 v7.0-217-g8c45e51 Python-3.10.12 torch-2.0.1+cu118 CUDA:0 (Tesla T4, 15102MiB)\n",
            "\n"
          ]
        },
        {
          "output_type": "stream",
          "name": "stdout",
          "text": [
            "[Errno 2] No such file or directory: '/usr/local/lib/python3.10/dist-packages/pyparsing-3.1.1.dist-info/METADATA'\n"
          ]
        },
        {
          "output_type": "stream",
          "name": "stderr",
          "text": [
            "Fusing layers... \n",
            "Model summary: 157 layers, 7012822 parameters, 0 gradients, 15.8 GFLOPs\n",
            "Adding AutoShape... \n",
            "YOLOv5 🚀 v7.0-217-g8c45e51 Python-3.10.12 torch-2.0.1+cu118 CUDA:0 (Tesla T4, 15102MiB)\n",
            "\n",
            "Fusing layers... \n"
          ]
        },
        {
          "output_type": "stream",
          "name": "stdout",
          "text": [
            "[Errno 2] No such file or directory: '/usr/local/lib/python3.10/dist-packages/cycler-0.11.0.dist-info/METADATA'\n"
          ]
        },
        {
          "output_type": "stream",
          "name": "stderr",
          "text": [
            "Model summary: 157 layers, 7080247 parameters, 0 gradients, 16.0 GFLOPs\n",
            "Adding AutoShape... \n"
          ]
        }
      ],
      "source": [
        "detection_model = torch.hub.load('.', 'custom', path='/content/models/detection_model/best.pt', source='local')\n",
        "recognition_model = torch.hub.load('.', 'custom', path='/content/models/recognition_model/best.pt', source='local')"
      ]
    },
    {
      "cell_type": "code",
      "execution_count": null,
      "metadata": {
        "colab": {
          "base_uri": "https://localhost:8080/"
        },
        "id": "jxsKd_zrCI3J",
        "outputId": "4097afa9-b4d2-47dd-c3ee-33a1bad9dc27"
      },
      "outputs": [
        {
          "output_type": "stream",
          "name": "stderr",
          "text": [
            "Saved 1 image to \u001b[1mruns/detect/exp\u001b[0m\n",
            "Saved results to runs/detect/exp\n",
            "\n"
          ]
        }
      ],
      "source": [
        "images = '/content/images/'\n",
        "\n",
        "for img in os.listdir(images):\n",
        "    try:\n",
        "        img_path = os.path.join(images, img)\n",
        "        result = detection_model(img_path)\n",
        "        crops = result.crop(save=True)\n",
        "    except (OSError, cv2.error) as e:\n",
        "        print(f\"Error processing image {img}: {e}\")\n",
        "        continue"
      ]
    },
    {
      "cell_type": "code",
      "execution_count": null,
      "metadata": {
        "id": "pXFevctaDu8V"
      },
      "outputs": [],
      "source": [
        "directory = '/content/yolov5/runs/detect'\n",
        "\n",
        "for filename in os.listdir(directory):\n",
        "    for crops in os.listdir(os.path.join(directory, filename)):\n",
        "        if crops == \"crops\":\n",
        "            for plate in os.listdir(os.path.join(directory, filename, crops)):\n",
        "                for img in os.listdir(os.path.join(directory, filename, crops, plate)):\n",
        "                    img_path = os.path.join(directory, filename, crops, plate, img)\n",
        "                    image = cv2.imread(img_path)\n",
        "                    saved_img_path = '/content/saved_images'\n",
        "                    # print(img)\n",
        "                    cv2.imwrite('/content/saved_images' + \"//\" + img, image)"
      ]
    },
    {
      "cell_type": "code",
      "execution_count": null,
      "metadata": {
        "colab": {
          "base_uri": "https://localhost:8080/"
        },
        "id": "Drj9UwBbFHeS",
        "outputId": "6f57b579-b321-4093-c6b8-bec26f6866cc"
      },
      "outputs": [
        {
          "output_type": "stream",
          "name": "stdout",
          "text": [
            "Resized image saved: /content/resized_images/2.jpg\n"
          ]
        }
      ],
      "source": [
        "input_folder = '/content/saved_images'\n",
        "output_folder = '/content/resized_images'\n",
        "\n",
        "# Create the output folder if it doesn't exist\n",
        "os.makedirs(output_folder, exist_ok=True)\n",
        "# Iterate over the files in the input folder\n",
        "for filename in os.listdir(input_folder):\n",
        "    input_path = os.path.join(input_folder, filename)\n",
        "    output_path = os.path.join(output_folder, filename)\n",
        "\n",
        "    # Check if the file is an image\n",
        "    if filename.endswith('.jpg') or filename.endswith('.jpeg') or filename.endswith('.png'):\n",
        "        # Read the image\n",
        "        image = cv2.imread(input_path)\n",
        "\n",
        "        # Check if the image was successfully read\n",
        "        if image is not None:\n",
        "            ratio = 600 / image.shape[1]\n",
        "            width = round(image.shape[1] * ratio)\n",
        "            height = round(image.shape[0] * ratio)\n",
        "\n",
        "            # Resize the image\n",
        "            resized_image = cv2.resize(image, (width, height))\n",
        "\n",
        "            # Save the resized image to the output folder\n",
        "            cv2.imwrite(output_path, resized_image)\n",
        "            print(f\"Resized image saved: {output_path}\")\n",
        "        else:\n",
        "            print(f\"Failed to read image: {input_path}\")\n",
        "    else:\n",
        "        print(f\"Skipping non-image file: {input_path}\")"
      ]
    },
    {
      "cell_type": "code",
      "execution_count": null,
      "metadata": {
        "colab": {
          "base_uri": "https://localhost:8080/"
        },
        "id": "vPXSW4mZIPYY",
        "outputId": "53eb007a-0a07-442e-b684-d3cef50d2962"
      },
      "outputs": [
        {
          "output_type": "stream",
          "name": "stdout",
          "text": [
            "{'five': 0.39845732, 'alif': 0.70307034, 'yaa': 0.53996605, 'seen': 0.8121415, 'seven': 0.18367451, 'eight': 0.066700965, 'four': 0.29052845}\n"
          ]
        }
      ],
      "source": [
        "model_result = {}  # Use a dictionary instead of a list\n",
        "\n",
        "# Specify the path to your input image\n",
        "image_path = '/content/resized_images/2.jpg'\n",
        "\n",
        "# Perform object detection on the image\n",
        "results = recognition_model(image_path)\n",
        "\n",
        "# Get the predicted labels and bounding box coordinates\n",
        "labels = results.xyxyn[0][:, -1].cpu().numpy()\n",
        "boxes = results.xyxyn[0][:, :-1].cpu().numpy()\n",
        "\n",
        "# Get the class names associated with the model\n",
        "class_names = recognition_model.module.names if hasattr(recognition_model, 'module') else recognition_model.names\n",
        "\n",
        "# Reverse the order of labels and bounding boxes\n",
        "reversed_labels = labels[::-1]\n",
        "reversed_boxes = boxes[::-1]\n",
        "\n",
        "# Iterate over the reversed bounding box coordinates and labels\n",
        "for label, box in zip(reversed_labels, reversed_boxes):\n",
        "    # Get the label name using the model's class names\n",
        "    label_name = class_names[int(label)]\n",
        "\n",
        "    # Store the label name and reversed bounding box in the model_result dictionary\n",
        "    model_result[label_name] = box[0]\n",
        "\n",
        "# Print the model_result dictionary\n",
        "print(model_result)"
      ]
    },
    {
      "cell_type": "code",
      "execution_count": null,
      "metadata": {
        "id": "KJXiIwrxJMFV"
      },
      "outputs": [],
      "source": [
        "lst = []\n",
        "for label, box in zip(reversed_labels, reversed_boxes):\n",
        "    # Get the label name using the model's class names\n",
        "    label_name = class_names[int(label)]\n",
        "\n",
        "    # Print the label name and reversed bounding box\n",
        "    # print(\"Label: {}, Bounding Box: {}\".format(label_name, box))\n",
        "    # print(label_name, box[0])\n",
        "    lst.append(box[0])"
      ]
    },
    {
      "cell_type": "code",
      "execution_count": null,
      "metadata": {
        "id": "Sihxf-n_JMIP"
      },
      "outputs": [],
      "source": [
        "lst.sort()"
      ]
    },
    {
      "cell_type": "code",
      "execution_count": null,
      "metadata": {
        "colab": {
          "base_uri": "https://localhost:8080/"
        },
        "id": "IBkQyHsSCI9t",
        "outputId": "bdefef84-63ad-466b-c72f-9f906f057a2b"
      },
      "outputs": [
        {
          "output_type": "stream",
          "name": "stdout",
          "text": [
            "['eight', 'seven', 'four', 'five', 'yaa', 'alif', 'seen']\n"
          ]
        }
      ],
      "source": [
        "# Initialize an empty list to store the matching keys\n",
        "matching_keys = []\n",
        "\n",
        "# Iterate over the elements in lst\n",
        "for item in lst:\n",
        "    for key, value in model_result.items():\n",
        "        if value == item:\n",
        "            matching_keys.append(key)\n",
        "            break  # Break out of the inner loop after finding a match\n",
        "\n",
        "# Print the matching keys\n",
        "print(matching_keys)"
      ]
    },
    {
      "cell_type": "code",
      "execution_count": null,
      "metadata": {
        "id": "oaRK30RJJwrD"
      },
      "outputs": [],
      "source": [
        "replace_arabic_characters_and_digits = {\"zero\": 0, \"one\": 1, \"two\": 2, \"three\": 3, \"four\": 4, \"five\": 5, \"six\": 6, \"seven\": 7, \"eight\": 8, \"nine\": 9,\n",
        "                                        \"alif\":\"أ\", \"baa\":\"ب\", \"geem\":\"ج\", \"daal\":\"د\", \"raa\":\"ر\", \"seen\":\"س\", \"saad\":\"ص\", \"taa\":\"ط\",\n",
        "                                        \"ein\":\"ع\", \"faa\":\"ف\", \"qaaf\":\"ق\", \"laam\":\"ل\", \"meem\":\"م\", \"noon\":\"ن\", \"haa\":\"ه\", \"waaw\":\"و\", \"yaa\":\"ي\"}"
      ]
    },
    {
      "cell_type": "code",
      "execution_count": null,
      "metadata": {
        "colab": {
          "base_uri": "https://localhost:8080/"
        },
        "id": "xHfP6ye8Jwt5",
        "outputId": "e878a592-213a-432c-818d-c71696735c5c"
      },
      "outputs": [
        {
          "output_type": "stream",
          "name": "stdout",
          "text": [
            "[8, 7, 4, 5, 'ي', 'أ', 'س']\n"
          ]
        }
      ],
      "source": [
        "# Initialize an empty list to store the corresponding values\n",
        "matching_values = []\n",
        "\n",
        "# Iterate over the keys in matching_keys\n",
        "for key in matching_keys:\n",
        "    if key in replace_arabic_characters_and_digits:\n",
        "        value = replace_arabic_characters_and_digits[key]\n",
        "        matching_values.append(value)\n",
        "\n",
        "# Print the matching values\n",
        "print(matching_values)"
      ]
    },
    {
      "cell_type": "code",
      "execution_count": null,
      "metadata": {
        "id": "u78-tUygLjTd"
      },
      "outputs": [],
      "source": [
        "numbers = ''\n",
        "characters = ''\n",
        "\n",
        "for item in matching_values:\n",
        "    if isinstance(item, int):\n",
        "        numbers += str(item)\n",
        "    elif isinstance(item, str):\n",
        "        characters += item\n",
        "        separated_characters = list(characters[::-1])\n",
        "\n",
        "result_list = [numbers, separated_characters]"
      ]
    },
    {
      "cell_type": "code",
      "execution_count": null,
      "metadata": {
        "colab": {
          "base_uri": "https://localhost:8080/"
        },
        "id": "79rp2czfNcQ_",
        "outputId": "5d26b4d7-9815-4905-8ab5-f8e09d587e1c"
      },
      "outputs": [
        {
          "output_type": "execute_result",
          "data": {
            "text/plain": [
              "['8745', ['س', 'أ', 'ي']]"
            ]
          },
          "metadata": {},
          "execution_count": 13
        }
      ],
      "source": [
        "result_list"
      ]
    },
    {
      "cell_type": "code",
      "execution_count": null,
      "metadata": {
        "id": "FQe50N9oO4u7"
      },
      "outputs": [],
      "source": [
        "replace_first_element = {\"س\": \"الإسكندرية\", \"ر\": \"الشرقية\", \"د\":\"الدقهلية\", \"م\":\"المنوفية\",\"ب\":\"البحيرة\",\"ل\":\"كفر الشيخ\", \"ع\":\"الغربية\", \"ق\":\"القليوبية\",\n",
        "                         \"ف\":\"الفيوم\", \"و\":\"بني سويف\", \"ن\":\"المنيا\",\"ي\":\"أسيوط\", \"ه\":\"سوهاج\"}\n",
        "\n",
        "replace_second_element_if_first_geem = {\"ه\": \"مطروح\", \"ب\":\"الوادي الجديد\"}\n",
        "\n",
        "replace_second_element_if_first_saad = {\"أ\": \"قنا\", \"ق\":\"الأقصر\", \"و\":\"أسوان\"}\n",
        "\n",
        "replace_second_element_if_first_taa = {\"س\":\"السويس\", \"ص\":\"الاسماعيلية\", \"ع\":\"بورسعيد\", \"د\":\"دمياط\", \"أ\":\"شمال سيناء\", \"ج\":\"جنوب سيناء\", \"ر\":\"البحر الأحمر\"}"
      ]
    },
    {
      "cell_type": "code",
      "source": [
        "first_char = result_list[1][0]\n",
        "sec_char = result_list[1][1]\n",
        "\n",
        "if len(result_list[0]) == 3 and len(result_list[1]) == 3:\n",
        "    value = \"القاهرة\"\n",
        "elif len(result_list[0]) == 4 and len(result_list[1]) == 2:\n",
        "    value = \"الجيزة\"\n",
        "else:\n",
        "    if first_char == \"ج\":\n",
        "        value = replace_second_element_if_first_geem[sec_char]\n",
        "    elif first_char == \"ص\":\n",
        "        value = replace_second_element_if_first_saad[sec_char]\n",
        "    elif first_char == \"ط\":\n",
        "        value = replace_second_element_if_first_taa[sec_char]\n",
        "    else:\n",
        "        value = replace_first_element[first_char]"
      ],
      "metadata": {
        "id": "DjsZqeuZTYw5"
      },
      "execution_count": null,
      "outputs": []
    },
    {
      "cell_type": "code",
      "source": [
        "result_list.append(value)\n",
        "\n",
        "result_list"
      ],
      "metadata": {
        "colab": {
          "base_uri": "https://localhost:8080/"
        },
        "id": "9FP0PmesTcQh",
        "outputId": "bf39b0ee-0e3b-454d-e0c0-8f72abc82c17"
      },
      "execution_count": null,
      "outputs": [
        {
          "output_type": "execute_result",
          "data": {
            "text/plain": [
              "['8745', ['س', 'أ', 'ي'], 'الإسكندرية', 'الإسكندرية']"
            ]
          },
          "metadata": {},
          "execution_count": 37
        }
      ]
    }
  ],
  "metadata": {
    "accelerator": "GPU",
    "colab": {
      "provenance": []
    },
    "kernelspec": {
      "display_name": "Python 3",
      "name": "python3"
    },
    "language_info": {
      "name": "python"
    }
  },
  "nbformat": 4,
  "nbformat_minor": 0
}